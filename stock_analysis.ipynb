{
 "cells": [
  {
   "cell_type": "code",
   "execution_count": null,
   "id": "f10453dc-8d94-4823-ba07-6cfa4e8fd4bf",
   "metadata": {},
   "outputs": [
    {
     "name": "stdout",
     "output_type": "stream",
     "text": [
      "\n",
      "Total rows loaded: 14200\n"
     ]
    }
   ],
   "source": [
    "import os\n",
    "import yaml\n",
    "import calendar\n",
    "import pandas as pd\n",
    "\n",
    "BASE_DIR = 'C:/Users/dell/Desktop/project/stock_market_project/data'\n",
    "OUTPUT_DIR = 'ticker_csvs' \n",
    "os.makedirs(OUTPUT_DIR, exist_ok=True)\n",
    "\n",
    "def read_yaml_if_exists(folder_path, date_str):\n",
    "    # Read YAML file starting with the given date\n",
    "    for file in os.listdir(folder_path):\n",
    "        if file.startswith(date_str) and file.endswith('.yaml'):\n",
    "            file_path = os.path.join(folder_path, file)\n",
    "            with open(file_path, 'r') as f:\n",
    "                return yaml.safe_load(f)\n",
    "    return None\n",
    "\n",
    "def get_all_data():\n",
    "    df = pd.DataFrame()\n",
    "    for folder in sorted(os.listdir(BASE_DIR)):\n",
    "        folder_path = os.path.join(BASE_DIR, folder)\n",
    "\n",
    "        try:\n",
    "            # Extract year and month from folder name like \"2023-10\"\n",
    "            year, month = map(int, folder.split('-'))\n",
    "        except ValueError:\n",
    "            print(f\"Skipping folder {folder} (invalid name format)\")\n",
    "            continue\n",
    "\n",
    "        # Get number of days in the month\n",
    "        first_weekday, last_day = calendar.monthrange(year, month) # first_weekday(0-monday) not used\n",
    "\n",
    "        # Loop through all days in that month\n",
    "        for day in range(1, last_day + 1):\n",
    "            date_str = f\"{year}-{month:02d}-{day:02d}\"\n",
    "            data = read_yaml_if_exists(folder_path, date_str)\n",
    "            \n",
    "            if data and isinstance(data, list):\n",
    "                daily_df = pd.DataFrame(data)\n",
    "                df = pd.concat([df, daily_df], ignore_index=True)\n",
    "\n",
    "    # Final DataFrame\n",
    "    print(f\"\\nTotal rows loaded: {len(df)}\") \n",
    "    for ticker, group in df.groupby('Ticker'):\n",
    "        ticker_file = os.path.join(OUTPUT_DIR, f\"{ticker}.csv\")\n",
    "        group.to_csv(ticker_file, index=False)\n",
    "        \n",
    "\n",
    "# Run it\n",
    "get_all_data()\n"
   ]
  },
  {
   "cell_type": "code",
   "execution_count": null,
   "id": "542e470d-1642-421e-bb6c-73cdbe17aacc",
   "metadata": {},
   "outputs": [],
   "source": []
  }
 ],
 "metadata": {
  "kernelspec": {
   "display_name": "Python [conda env:base] *",
   "language": "python",
   "name": "conda-base-py"
  },
  "language_info": {
   "codemirror_mode": {
    "name": "ipython",
    "version": 3
   },
   "file_extension": ".py",
   "mimetype": "text/x-python",
   "name": "python",
   "nbconvert_exporter": "python",
   "pygments_lexer": "ipython3",
   "version": "3.12.7"
  }
 },
 "nbformat": 4,
 "nbformat_minor": 5
}
